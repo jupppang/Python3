{
  "nbformat": 4,
  "nbformat_minor": 0,
  "metadata": {
    "colab": {
      "provenance": []
    },
    "kernelspec": {
      "name": "python3",
      "display_name": "Python 3"
    },
    "language_info": {
      "name": "python"
    }
  },
  "cells": [
    {
      "cell_type": "code",
      "metadata": {
        "colab": {
          "base_uri": "https://localhost:8080/"
        },
        "id": "9GeryZmSeRHN",
        "outputId": "c7a41985-ef41-4046-cd90-08036a672a12"
      },
      "source": [
        "st = []\n",
        "for i in range(3):\n",
        "  no = int(input(\"번호 : \"))\n",
        "  name = input(\"이름 : \")\n",
        "  gender = input(\"성별 : \")\n",
        "  kor = int(input(\"국어 : \"))\n",
        "  eng = int(input(\"영어 : \"))\n",
        "  mat = int(input(\"수학 : \"))\n",
        "\n",
        "  tot = kor + eng + mat\n",
        "  ave = tot / 3\n",
        "  st.append((no, name, gender, kor, eng, mat, tot, ave))\n",
        "\n",
        "for i in range(3):\n",
        "  print(\"%03d %10s %1s %3d %3d %3d %3d %6.2f\" % (st[i][0],st[i][1],st[i][2],st[i][3],st[i][4],st[i][5],st[i][6],st[i][7])) "
      ],
      "execution_count": 4,
      "outputs": [
        {
          "output_type": "stream",
          "name": "stdout",
          "text": [
            "번호 : 1\n",
            "이름 : 주빵\n",
            "성별 : 여\n",
            "국어 : 36\n",
            "영어 : 47\n",
            "수학 : 100\n",
            "번호 : 2\n",
            "이름 : 주방\n",
            "성별 : 남\n",
            "국어 : 34\n",
            "영어 : 56\n",
            "수학 : 67\n",
            "번호 : 3\n",
            "이름 : 쭈빵\n",
            "성별 : 여\n",
            "국어 : 34\n",
            "영어 : 45\n",
            "수학 : 92\n",
            "001         주빵 여  36  47 100 183  61.00\n",
            "002         주방 남  34  56  67 157  52.33\n",
            "003         쭈빵 여  34  45  92 171  57.00\n"
          ]
        }
      ]
    }
  ]
}