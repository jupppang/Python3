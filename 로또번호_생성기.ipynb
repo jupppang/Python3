{
  "nbformat": 4,
  "nbformat_minor": 0,
  "metadata": {
    "colab": {
      "provenance": []
    },
    "kernelspec": {
      "name": "python3",
      "display_name": "Python 3"
    }
  },
  "cells": [
    {
      "cell_type": "code",
      "metadata": {
        "colab": {
          "base_uri": "https://localhost:8080/"
        },
        "id": "VFWVKoqNyxXq",
        "outputId": "d5ab2538-e7a2-45ec-fd0b-cd083ff7b4d8"
      },
      "source": [
        "import random\n",
        "lotto = random.sample(range(1, 46), 6)\n",
        "lotto.sort()\n",
        "print(lotto)"
      ],
      "execution_count": 1,
      "outputs": [
        {
          "output_type": "stream",
          "name": "stdout",
          "text": [
            "[4, 5, 8, 37, 42, 45]\n"
          ]
        }
      ]
    }
  ]
}