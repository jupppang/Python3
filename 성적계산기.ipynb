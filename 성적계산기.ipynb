{
  "nbformat": 4,
  "nbformat_minor": 0,
  "metadata": {
    "colab": {
      "provenance": [],
      "collapsed_sections": []
    },
    "kernelspec": {
      "name": "python3",
      "display_name": "Python 3"
    },
    "language_info": {
      "name": "python"
    }
  },
  "cells": [
    {
      "cell_type": "code",
      "metadata": {
        "id": "TTKZCGwzBsa9",
        "colab": {
          "base_uri": "https://localhost:8080/"
        },
        "outputId": "570c05dc-d98b-41a9-dbba-d74569b42c2e"
      },
      "source": [
        "#이름, 국어, 영어, 수학, 총점, 평균  #int 정수 3 float실수 #str문자열 #bool블리언\n",
        "name = input('이름')\n",
        "kor = int(input('국어 : '))\n",
        "eng = int(input('영어 : '))\n",
        "mat = int(input('수학 : '))\n",
        "\n",
        "tot = kor + eng + mat\n",
        "ave = tot / 3\n",
        "\n",
        "print(name, kor, eng, mat, tot, ave)"
      ],
      "execution_count": null,
      "outputs": [
        {
          "output_type": "stream",
          "text": [
            "이름허주현\n",
            "국어 : 43\n",
            "영어 : 34\n",
            "수학 : 33\n",
            "허주현 43 34 33 110 36.666666666666664\n"
          ],
          "name": "stdout"
        }
      ]
    }
  ]
}