{
  "nbformat": 4,
  "nbformat_minor": 0,
  "metadata": {
    "colab": {
      "provenance": []
    },
    "kernelspec": {
      "name": "python3",
      "display_name": "Python 3"
    }
  },
  "cells": [
    {
      "cell_type": "code",
      "metadata": {
        "colab": {
          "base_uri": "https://localhost:8080/"
        },
        "id": "o3yFzlYW6M9i",
        "outputId": "3da102c4-1795-4990-8f74-0d4c4000cc44"
      },
      "source": [
        "import random\n",
        "import time\n",
        "\n",
        "a = random.randint(2, 9)\n",
        "b = random.randint(2, 9)\n",
        "\n",
        "s = time.time()\n",
        "v = input(str(a) + ' * ' + str(b) + ' = ')\n",
        "v = int(v)\n",
        "e = time.time()\n",
        "z = e - s\n",
        "print('응답시간 : ', z)\n",
        "\n",
        "if v == a * b:\n",
        "  print('정답')\n",
        "else:\n",
        "  print('오답')\n"
      ],
      "execution_count": 1,
      "outputs": [
        {
          "output_type": "stream",
          "name": "stdout",
          "text": [
            "4 * 2 = 8\n",
            "응답시간 :  2.986762523651123\n",
            "정답\n"
          ]
        }
      ]
    }
  ]
}