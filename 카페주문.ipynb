{
  "nbformat": 4,
  "nbformat_minor": 0,
  "metadata": {
    "colab": {
      "provenance": [],
      "collapsed_sections": []
    },
    "kernelspec": {
      "name": "python3",
      "display_name": "Python 3"
    }
  },
  "cells": [
    {
      "cell_type": "code",
      "metadata": {
        "colab": {
          "base_uri": "https://localhost:8080/"
        },
        "id": "d7oV3aGXhPws",
        "outputId": "781d4cf2-0078-4571-fec1-b90a536ca231"
      },
      "source": [
        "print('안녕하세요')\n",
        "coffee = input('무엇을 주문하시겠어요?')\n",
        "st = '딸기라떼'\n",
        "cc = '코코넛커피'\n",
        "mi = '우유'\n",
        "sk = '하늘보리'\n",
        "print(coffee,\"를 주문하셨습니다\")\n",
        "ea = input('몇 잔을 주문하시겠어요?')\n",
        "ea = int(ea)\n",
        "print(coffee, ea, '잔을 주문하셨습니다')\n",
        "if coffee == st :\n",
        "  print(ea * 4000, '원 입니다')\n",
        "elif coffee == cc :\n",
        "  print(ea * 3000, '원 입니다')\n",
        "elif coffee == mi :\n",
        "  print(ea * 1500, '원 입니다')\n",
        "elif coffee == sk :\n",
        "  print(ea * 2500, '원 입니다')\n"
      ],
      "execution_count": 1,
      "outputs": [
        {
          "output_type": "stream",
          "name": "stdout",
          "text": [
            "안녕하세요\n",
            "무엇을 주문하시겠어요?우유\n",
            "우유 를 주문하셨습니다\n",
            "몇 잔을 주문하시겠어요?8\n",
            "우유 8 잔을 주문하셨습니다\n",
            "12000 원 입니다\n"
          ]
        }
      ]
    }
  ]
}