{
  "nbformat": 4,
  "nbformat_minor": 0,
  "metadata": {
    "colab": {
      "provenance": [],
      "collapsed_sections": []
    },
    "kernelspec": {
      "name": "python3",
      "display_name": "Python 3"
    },
    "language_info": {
      "name": "python"
    }
  },
  "cells": [
    {
      "cell_type": "code",
      "metadata": {
        "id": "naOl4BVP2xCF",
        "colab": {
          "base_uri": "https://localhost:8080/"
        },
        "outputId": "861928bc-15a1-40f7-efed-22e7f522f390"
      },
      "source": [
        "import time \n",
        "\n",
        "# 한국 시간\n",
        "\n",
        "now_time = time.strftime('%H:%M:%S')\n",
        "now_HMS = now_time.split(\":\")\n",
        "print('[현재시간]', now_time)\n",
        "\n",
        "if int(now_HMS[0]) <= int(14):\n",
        "  k1 = int(now_HMS[0]) +int(9)\n",
        "  print('[한국시간]', k1, ':', now_HMS[1],  ':', now_HMS[2])\n",
        "elif 14 < int(now_HMS[0]) < int(24):\n",
        "  k2 = int(now_HMS[0]) -int(15)\n",
        "  print('[한국시간]', k2, ':', now_HMS[1],  ':', now_HMS[2])\n",
        "\n",
        "# 영국 시간\n",
        "if int(now_HMS[0]) <= int(22):\n",
        "  E1 = int(now_HMS[0]) + int(1)\n",
        "  print('[영국시간]', E1, ':', now_HMS[1], ':', now_HMS[2])\n",
        "elif int(now_HMS[0]) == int(23):\n",
        "  E2 =  int(now_HMS[0]) - int(23)\n",
        "  print('[영국시간]', E2, ':', now_HMS[1], ':', now_HMS[2] )\n",
        "\n",
        "  # 미국 서부 시간\n",
        "if int(0) <= int(now_HMS[0]) <= int(6):\n",
        "  US1 = int(now_HMS[0]) + int(17)\n",
        "  print('[미국 서부 시간]', US1, ':', now_HMS[1], ':', now_HMS[2])\n",
        "elif int(7) <= int(now_HMS[0]) <= int(23):\n",
        "  US2 = int(now_HMS[0]) - int(7)\n",
        "  print('[미국 서부 시간]', US2, ':', now_HMS[1], ':', now_HMS[2])\n",
        "\n",
        "# 미국 동부 시간\n",
        "if 0 <= int(now_HMS[0]) < 4:\n",
        "  U1 = int(now_HMS[0]) + 20\n",
        "  print('[미국 동부 시간]', U1, ':', now_HMS[1], ':', now_HMS[2])\n",
        "elif 4 <= int(npw_HMS[0]) <= 23:\n",
        "  U2 = int(now_HMS[0]) - 4\n",
        "  print('[미국 동부 시간]', U2, ':', now_HMS[1], ':', now_HMS[2])"
      ],
      "execution_count": 1,
      "outputs": [
        {
          "output_type": "stream",
          "name": "stdout",
          "text": [
            "[현재시간] 01:36:02\n",
            "[한국시간] 10 : 36 : 02\n",
            "[영국시간] 2 : 36 : 02\n",
            "[미국 서부 시간] 18 : 36 : 02\n",
            "[미국 동부 시간] 21 : 36 : 02\n"
          ]
        }
      ]
    }
  ]
}